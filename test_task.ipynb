{
 "cells": [
  {
   "cell_type": "code",
   "execution_count": 1,
   "metadata": {
    "collapsed": true
   },
   "outputs": [],
   "source": [
    "import pandas as pd\n",
    "import numpy as np"
   ]
  },
  {
   "cell_type": "code",
   "execution_count": 2,
   "metadata": {
    "collapsed": true
   },
   "outputs": [],
   "source": [
    "ns = ['type', 'x', 'y', 'z']\n",
    "# read points for joints\n",
    "dfJointsVertexes = pd.read_csv('joints.obj', sep=' ', names = ns) "
   ]
  },
  {
   "cell_type": "code",
   "execution_count": 6,
   "metadata": {},
   "outputs": [],
   "source": [
    "# we will sort by 'x' axis as all points are located on the x axis\n",
    "axis_sort = 'x' \n",
    "df = dfJointsVertexes.sort_values(by=[axis_sort])\n",
    "# arms and elbows are first and last values after sort\n",
    "\n",
    "dfJointsVertexesRowCount= len(dfJointsVertexes)\n",
    "        \n",
    "dfJointsVertexes = dfJointsVertexes.sort_values(by=[axis_sort])\n",
    "\n",
    "idxWrist1 = 0\n",
    "idxWrist2 = dfJointsVertexesRowCount - idxWrist1 - 1\n",
    "\n",
    "idxElbow1 = 1\n",
    "idxElbow2 = dfJointsVertexesRowCount - idxElbow1 - 1\n",
    "\n",
    "idxShoulder1 = 2\n",
    "idxShoulder2 = dfJointsVertexesRowCount - idxShoulder1 - 1\n",
    "\n",
    "wrist1 = dfJointsVertexes.iloc[idxWrist1]\n",
    "wrist2 = dfJointsVertexes.iloc[idxWrist2]\n",
    "\n",
    "elbow1 = dfJointsVertexes.iloc[idxElbow1]\n",
    "elbow2 = dfJointsVertexes.iloc[idxElbow2]\n",
    "\n",
    "shoulder1 = dfJointsVertexes.iloc[idxShoulder1]\n",
    "shoulder2 = dfJointsVertexes.iloc[idxShoulder2] "
   ]
  },
  {
   "cell_type": "code",
   "execution_count": 9,
   "metadata": {},
   "outputs": [],
   "source": [
    "# we have 2 vectors which show us the direction for the arms:\n",
    "vector_l = np.asarray([wrist1.x-elbow1.x, wrist1.y-elbow1.y, wrist1.z-elbow1.z])\n",
    "vector_r = np.asarray([wrist2.x-elbow2.x, wrist2.y-elbow2.y, wrist2.z-elbow2.z])"
   ]
  },
  {
   "cell_type": "code",
   "execution_count": 10,
   "metadata": {
    "collapsed": true
   },
   "outputs": [],
   "source": [
    "# we need to cut all the points which are lower than the joints for the elbow\n",
    "# we take cosine similarities to measure which points to cut \n",
    "from sklearn.metrics.pairwise import cosine_similarity\n",
    "\n",
    "# if the angle more than 90 degree, then we move the point to the place of an elbow joint\n"
   ]
  },
  {
   "cell_type": "code",
   "execution_count": 11,
   "metadata": {},
   "outputs": [
    {
     "name": "stderr",
     "output_type": "stream",
     "text": [
      "/home/yustiks/anaconda3/lib/python3.6/site-packages/ipykernel_launcher.py:9: SettingWithCopyWarning: \n",
      "A value is trying to be set on a copy of a slice from a DataFrame.\n",
      "Try using .loc[row_indexer,col_indexer] = value instead\n",
      "\n",
      "See the caveats in the documentation: http://pandas.pydata.org/pandas-docs/stable/indexing.html#indexing-view-versus-copy\n",
      "  if __name__ == '__main__':\n",
      "/home/yustiks/anaconda3/lib/python3.6/site-packages/ipykernel_launcher.py:10: SettingWithCopyWarning: \n",
      "A value is trying to be set on a copy of a slice from a DataFrame.\n",
      "Try using .loc[row_indexer,col_indexer] = value instead\n",
      "\n",
      "See the caveats in the documentation: http://pandas.pydata.org/pandas-docs/stable/indexing.html#indexing-view-versus-copy\n",
      "  # Remove the CWD from sys.path while we load stuff.\n",
      "/home/yustiks/anaconda3/lib/python3.6/site-packages/ipykernel_launcher.py:11: SettingWithCopyWarning: \n",
      "A value is trying to be set on a copy of a slice from a DataFrame.\n",
      "Try using .loc[row_indexer,col_indexer] = value instead\n",
      "\n",
      "See the caveats in the documentation: http://pandas.pydata.org/pandas-docs/stable/indexing.html#indexing-view-versus-copy\n",
      "  # This is added back by InteractiveShellApp.init_path()\n"
     ]
    }
   ],
   "source": [
    "# read file with model \n",
    "dfModel = pd.read_csv('model.obj', sep = ' ', names = ['type', 'x', 'y', 'z'])\n",
    "\n",
    "# vertexes\n",
    "dfModelVertexes = dfModel[dfModel.type == 'v']\n",
    "# points\n",
    "dfModelFlats = dfModel[dfModel.type == 'f']\n",
    "\n",
    "dfModelFlats['x'] = dfModelFlats.x.astype(int)\n",
    "dfModelFlats['y'] = dfModelFlats.y.astype(int)\n",
    "dfModelFlats['z'] = dfModelFlats.z.astype(int)"
   ]
  },
  {
   "cell_type": "code",
   "execution_count": 16,
   "metadata": {},
   "outputs": [],
   "source": [
    "import math\n",
    "dfModelVertexesRowCount = len(dfModelVertexes)\n",
    "\n",
    "for idxVertex in range(0, dfModelVertexesRowCount):\n",
    "    vertex = dfModelVertexes.iloc[idxVertex]    \n",
    "    \n",
    "    #left shoulder\n",
    "    if vertex.x < shoulder1.x:\n",
    "        elbow = elbow1\n",
    "        normal = vector_l\n",
    "    #right shoulder\n",
    "    elif vertex.x > shoulder2.x:\n",
    "        elbow = elbow2\n",
    "        normal = vector_r\n",
    "    else:\n",
    "        continue\n",
    "        \n",
    "    vector = np.array([vertex.x - elbow.x, vertex.y - elbow.y, vertex.z - elbow.z])\n",
    "        \n",
    "    vectorLength = math.sqrt(vector[0]**2 + vector[1]**2 + vector[2]**2)\n",
    "    \n",
    "    scalarProduct = cosine_similarity(normal.reshape(1,-1), vector.reshape(1,-1))[0][0]\n",
    "    \n",
    "    if scalarProduct <= 0:\n",
    "        continue\n",
    "    \n",
    "    # we take the projection of each point into the perpendicular vertex\n",
    "    radius = math.sqrt(1 - scalarProduct**2) * vectorLength\n",
    "    \n",
    "    \n",
    "    if radius > 0.1:\n",
    "        continue\n",
    "    \n",
    "    dfModelVertexes.iloc[idxVertex] = elbow\n",
    "        \n",
    "dfModelVertexes.to_csv('model_new.obj', sep=' ', header=False, index=False, float_format='%.6f')\n",
    "dfModelFlats.to_csv('model_new.obj', sep=' ', header=False, index=False, mode='a')\n"
   ]
  },
  {
   "cell_type": "code",
   "execution_count": null,
   "metadata": {
    "collapsed": true
   },
   "outputs": [],
   "source": []
  }
 ],
 "metadata": {
  "kernelspec": {
   "display_name": "Python 3",
   "language": "python",
   "name": "python3"
  },
  "language_info": {
   "codemirror_mode": {
    "name": "ipython",
    "version": 3
   },
   "file_extension": ".py",
   "mimetype": "text/x-python",
   "name": "python",
   "nbconvert_exporter": "python",
   "pygments_lexer": "ipython3",
   "version": "3.6.3"
  },
  "varInspector": {
   "cols": {
    "lenName": 16,
    "lenType": 16,
    "lenVar": 40
   },
   "kernels_config": {
    "python": {
     "delete_cmd_postfix": "",
     "delete_cmd_prefix": "del ",
     "library": "var_list.py",
     "varRefreshCmd": "print(var_dic_list())"
    },
    "r": {
     "delete_cmd_postfix": ") ",
     "delete_cmd_prefix": "rm(",
     "library": "var_list.r",
     "varRefreshCmd": "cat(var_dic_list()) "
    }
   },
   "types_to_exclude": [
    "module",
    "function",
    "builtin_function_or_method",
    "instance",
    "_Feature"
   ],
   "window_display": false
  }
 },
 "nbformat": 4,
 "nbformat_minor": 2
}
